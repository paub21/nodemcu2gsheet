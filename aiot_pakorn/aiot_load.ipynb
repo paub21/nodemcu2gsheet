{
 "cells": [
  {
   "cell_type": "code",
   "execution_count": 1,
   "id": "8119ac1d",
   "metadata": {},
   "outputs": [],
   "source": [
    "import pandas\n",
    "from sklearn import model_selection\n",
    "from sklearn.linear_model import LogisticRegression\n",
    "import joblib"
   ]
  },
  {
   "cell_type": "code",
   "execution_count": 3,
   "id": "ca86b940",
   "metadata": {},
   "outputs": [
    {
     "name": "stdout",
     "output_type": "stream",
     "text": [
      "Predicted class : [0.]\n",
      "\n"
     ]
    }
   ],
   "source": [
    "filename = 'finalized_model.sav'\n",
    "\n",
    "# load the model from disk\n",
    "loaded_model = joblib.load(open(filename, 'rb'))\n",
    "\n",
    "new = [[  8.  ,  151.   ,  78.   ,  32.  ,  210.   ,  42.9  ,   0.516 , 36.   ]] \n",
    "new = [[  2.  ,  122.   ,  70.   ,  27.  ,  0.   ,  36.8  ,   0.34 , 27.   ]] # class 0\n",
    "\n",
    "result = loaded_model.predict(new)\n",
    "print(\"Predicted class : {}\\n\" . format(result))"
   ]
  },
  {
   "cell_type": "code",
   "execution_count": null,
   "id": "e632117c",
   "metadata": {},
   "outputs": [],
   "source": []
  }
 ],
 "metadata": {
  "kernelspec": {
   "display_name": "Python 3",
   "language": "python",
   "name": "python3"
  },
  "language_info": {
   "codemirror_mode": {
    "name": "ipython",
    "version": 3
   },
   "file_extension": ".py",
   "mimetype": "text/x-python",
   "name": "python",
   "nbconvert_exporter": "python",
   "pygments_lexer": "ipython3",
   "version": "3.6.7"
  }
 },
 "nbformat": 4,
 "nbformat_minor": 5
}
