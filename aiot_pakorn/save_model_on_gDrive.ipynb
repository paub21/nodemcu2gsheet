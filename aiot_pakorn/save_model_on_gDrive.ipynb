{
  "nbformat": 4,
  "nbformat_minor": 0,
  "metadata": {
    "colab": {
      "name": "save_model_on_gDrive.ipynb",
      "provenance": []
    },
    "kernelspec": {
      "name": "python3",
      "display_name": "Python 3"
    },
    "language_info": {
      "name": "python"
    }
  },
  "cells": [
    {
      "cell_type": "code",
      "metadata": {
        "colab": {
          "base_uri": "https://localhost:8080/"
        },
        "id": "sD7d1HkHtzKK",
        "outputId": "54e1bb4b-3371-4180-a4d8-2d3a673ec33d"
      },
      "source": [
        "from google.colab import drive\n",
        "drive.mount('/content/gdrive')"
      ],
      "execution_count": 20,
      "outputs": [
        {
          "output_type": "stream",
          "name": "stdout",
          "text": [
            "Drive already mounted at /content/gdrive; to attempt to forcibly remount, call drive.mount(\"/content/gdrive\", force_remount=True).\n"
          ]
        }
      ]
    },
    {
      "cell_type": "code",
      "metadata": {
        "id": "tT7FxJX5u402"
      },
      "source": [
        "!pip install --upgrade gspread\n",
        "from google.colab import auth\n",
        "auth.authenticate_user()\n",
        "\n",
        "import gspread\n",
        "from oauth2client.client import GoogleCredentials\n",
        "sheet_name = 'IFTTT_Maker_Webhooks_Events'\n",
        "gc = gspread.authorize(GoogleCredentials.get_application_default())\n",
        "\n",
        "worksheet = gc.open(sheet_name).sheet1\n",
        "\n",
        "# get_all_values gives a list of rows.\n",
        "rows = worksheet.get_all_values()\n",
        "print(rows)\n",
        "\n",
        "# Convert to a DataFrame and render.\n",
        "import pandas as pd\n",
        "data = pd.DataFrame.from_records(rows)"
      ],
      "execution_count": null,
      "outputs": []
    },
    {
      "cell_type": "code",
      "metadata": {
        "id": "2_6HrITrxa9l"
      },
      "source": [
        "features = data.loc[:,2:3]\n",
        "target = data.loc[:,4:]"
      ],
      "execution_count": 40,
      "outputs": []
    },
    {
      "cell_type": "code",
      "metadata": {
        "id": "nRli6aFd0Hqf"
      },
      "source": [
        "from sklearn.ensemble import RandomForestClassifier\n",
        "from sklearn import datasets\n",
        "\n",
        "# Create decision tree classifer object\n",
        "classifer = RandomForestClassifier()\n",
        "\n",
        "# Train model (เทรนแบบเร็วๆไม่ได้ evaluate แต่ตอนทำจริงต้อง evaluate ด้วย)\n",
        "model = classifer.fit(features, target.values.ravel())"
      ],
      "execution_count": 41,
      "outputs": []
    },
    {
      "cell_type": "code",
      "metadata": {
        "colab": {
          "base_uri": "https://localhost:8080/"
        },
        "id": "JlqhvJoP0NLK",
        "outputId": "99f34ff8-d67a-46f0-8f9c-aef24b17f137"
      },
      "source": [
        "from sklearn.externals import joblib\n",
        "\n",
        "model_name = 'model_p.h5'\n",
        "path = F\"/content/gdrive/My Drive/IFTTT/MakerWebooks/sensor_data/{model_name}\" \n",
        "\n",
        "joblib.dump(model, path)"
      ],
      "execution_count": 45,
      "outputs": [
        {
          "output_type": "execute_result",
          "data": {
            "text/plain": [
              "['/content/gdrive/My Drive/IFTTT/MakerWebooks/sensor_data/model_p.h5']"
            ]
          },
          "metadata": {},
          "execution_count": 45
        }
      ]
    }
  ]
}