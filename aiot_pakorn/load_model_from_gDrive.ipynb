{
  "nbformat": 4,
  "nbformat_minor": 0,
  "metadata": {
    "colab": {
      "name": "load_model_from_gDrive.ipynb",
      "provenance": []
    },
    "kernelspec": {
      "name": "python3",
      "display_name": "Python 3"
    },
    "language_info": {
      "name": "python"
    }
  },
  "cells": [
    {
      "cell_type": "markdown",
      "metadata": {
        "id": "4mqbKGYFGhBl"
      },
      "source": [
        "**ขอสิทธิ์ให้ Colab เชื่อมต่อกับ google drive**"
      ]
    },
    {
      "cell_type": "code",
      "metadata": {
        "colab": {
          "base_uri": "https://localhost:8080/"
        },
        "id": "Hslb1A363wh_",
        "outputId": "9e6ffba6-cb70-4953-e485-04d957884610"
      },
      "source": [
        "from google.colab import drive\n",
        "drive.mount('/content/gdrive')"
      ],
      "execution_count": 1,
      "outputs": [
        {
          "output_type": "stream",
          "name": "stdout",
          "text": [
            "Mounted at /content/gdrive\n"
          ]
        }
      ]
    },
    {
      "cell_type": "markdown",
      "metadata": {
        "id": "Ckk126uBHEiY"
      },
      "source": [
        "**กำหนด path ของโมเดลที่จะไป load มาใช้งาน**"
      ]
    },
    {
      "cell_type": "code",
      "metadata": {
        "id": "QjMkmBeF38yL"
      },
      "source": [
        "import joblib\n",
        "path = '/content/gdrive/My Drive/IFTTT/MakerWebooks/sensor_data/model_p.h5'\n",
        "classifier1 = joblib.load(path)"
      ],
      "execution_count": 2,
      "outputs": []
    },
    {
      "cell_type": "markdown",
      "metadata": {
        "id": "m81gcPsTH4SV"
      },
      "source": [
        "**เตรียมข้อมูลชุดใหม่มาให้โมเดลทำนาย**"
      ]
    },
    {
      "cell_type": "code",
      "metadata": {
        "id": "IdFOZt4M4ruD"
      },
      "source": [
        "import numpy as np\n",
        "import pandas as pd\n",
        "\n",
        "new_data = [-5, 2] #class 0\n",
        "\n",
        "data = pd.DataFrame(new_data)\n",
        "data = data.T #transpose "
      ],
      "execution_count": 5,
      "outputs": []
    },
    {
      "cell_type": "markdown",
      "metadata": {
        "id": "OloNfDt-IImq"
      },
      "source": [
        "**ใช้โมเดลทำนาย class ของข้อมูลชุดใหม่**"
      ]
    },
    {
      "cell_type": "code",
      "metadata": {
        "colab": {
          "base_uri": "https://localhost:8080/"
        },
        "id": "PxuaxJ3H45UD",
        "outputId": "aa056924-10ba-4095-eb94-336b623e6eaf"
      },
      "source": [
        "predictions=classifier1.predict(data)\n",
        "print(predictions)"
      ],
      "execution_count": 6,
      "outputs": [
        {
          "output_type": "stream",
          "name": "stdout",
          "text": [
            "['Class2']\n"
          ]
        }
      ]
    }
  ]
}